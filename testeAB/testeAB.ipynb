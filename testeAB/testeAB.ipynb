{
 "cells": [
  {
   "cell_type": "markdown",
   "metadata": {},
   "source": [
    "# Imports"
   ]
  },
  {
   "cell_type": "code",
   "execution_count": 37,
   "metadata": {},
   "outputs": [],
   "source": [
    "import pandas as pd\n",
    "import pingouin as pg"
   ]
  },
  {
   "cell_type": "markdown",
   "metadata": {},
   "source": [
    "# Fluxos\n",
    "\n",
    "1. Cadastro\n",
    "2. Login\n",
    "3. Inscrição da Vaga\n",
    "4. Logout\n",
    "5. Criação do Curso"
   ]
  },
  {
   "cell_type": "markdown",
   "metadata": {},
   "source": [
    "# Teste AB"
   ]
  },
  {
   "cell_type": "markdown",
   "metadata": {},
   "source": [
    "### Hipóteses\n",
    "\n",
    "H0 = Aμ <= Bμ\n",
    "\n",
    "H1 = Aμ > Bμ"
   ]
  },
  {
   "cell_type": "markdown",
   "metadata": {},
   "source": [
    "### Separando dados"
   ]
  },
  {
   "cell_type": "code",
   "execution_count": 44,
   "metadata": {},
   "outputs": [
    {
     "data": {
      "text/html": [
       "<div>\n",
       "<style scoped>\n",
       "    .dataframe tbody tr th:only-of-type {\n",
       "        vertical-align: middle;\n",
       "    }\n",
       "\n",
       "    .dataframe tbody tr th {\n",
       "        vertical-align: top;\n",
       "    }\n",
       "\n",
       "    .dataframe thead th {\n",
       "        text-align: right;\n",
       "    }\n",
       "</style>\n",
       "<table border=\"1\" class=\"dataframe\">\n",
       "  <thead>\n",
       "    <tr style=\"text-align: right;\">\n",
       "      <th></th>\n",
       "      <th>Cadastro</th>\n",
       "      <th>Login</th>\n",
       "      <th>Inscrição da Vaga</th>\n",
       "      <th>Logout</th>\n",
       "      <th>Criação do Curso</th>\n",
       "    </tr>\n",
       "  </thead>\n",
       "  <tbody>\n",
       "    <tr>\n",
       "      <th>0</th>\n",
       "      <td>20.40</td>\n",
       "      <td>18.08</td>\n",
       "      <td>23.95</td>\n",
       "      <td>4.76</td>\n",
       "      <td>38.11</td>\n",
       "    </tr>\n",
       "    <tr>\n",
       "      <th>1</th>\n",
       "      <td>152.88</td>\n",
       "      <td>10.66</td>\n",
       "      <td>11.61</td>\n",
       "      <td>7.50</td>\n",
       "      <td>28.05</td>\n",
       "    </tr>\n",
       "    <tr>\n",
       "      <th>2</th>\n",
       "      <td>33.75</td>\n",
       "      <td>3.24</td>\n",
       "      <td>22.24</td>\n",
       "      <td>8.66</td>\n",
       "      <td>12.25</td>\n",
       "    </tr>\n",
       "    <tr>\n",
       "      <th>3</th>\n",
       "      <td>92.81</td>\n",
       "      <td>7.99</td>\n",
       "      <td>12.85</td>\n",
       "      <td>25.06</td>\n",
       "      <td>25.41</td>\n",
       "    </tr>\n",
       "    <tr>\n",
       "      <th>4</th>\n",
       "      <td>33.15</td>\n",
       "      <td>3.67</td>\n",
       "      <td>9.78</td>\n",
       "      <td>6.03</td>\n",
       "      <td>24.05</td>\n",
       "    </tr>\n",
       "    <tr>\n",
       "      <th>5</th>\n",
       "      <td>44.09</td>\n",
       "      <td>4.19</td>\n",
       "      <td>12.08</td>\n",
       "      <td>6.24</td>\n",
       "      <td>15.70</td>\n",
       "    </tr>\n",
       "    <tr>\n",
       "      <th>6</th>\n",
       "      <td>44.09</td>\n",
       "      <td>4.19</td>\n",
       "      <td>12.08</td>\n",
       "      <td>6.24</td>\n",
       "      <td>15.70</td>\n",
       "    </tr>\n",
       "    <tr>\n",
       "      <th>7</th>\n",
       "      <td>14.95</td>\n",
       "      <td>4.67</td>\n",
       "      <td>5.09</td>\n",
       "      <td>19.44</td>\n",
       "      <td>66.98</td>\n",
       "    </tr>\n",
       "    <tr>\n",
       "      <th>8</th>\n",
       "      <td>9.95</td>\n",
       "      <td>14.46</td>\n",
       "      <td>11.76</td>\n",
       "      <td>9.55</td>\n",
       "      <td>30.44</td>\n",
       "    </tr>\n",
       "    <tr>\n",
       "      <th>9</th>\n",
       "      <td>6.32</td>\n",
       "      <td>3.85</td>\n",
       "      <td>11.07</td>\n",
       "      <td>6.44</td>\n",
       "      <td>17.86</td>\n",
       "    </tr>\n",
       "    <tr>\n",
       "      <th>10</th>\n",
       "      <td>28.13</td>\n",
       "      <td>7.25</td>\n",
       "      <td>7.93</td>\n",
       "      <td>15.06</td>\n",
       "      <td>35.92</td>\n",
       "    </tr>\n",
       "    <tr>\n",
       "      <th>11</th>\n",
       "      <td>46.30</td>\n",
       "      <td>3.85</td>\n",
       "      <td>13.63</td>\n",
       "      <td>4.05</td>\n",
       "      <td>33.73</td>\n",
       "    </tr>\n",
       "    <tr>\n",
       "      <th>12</th>\n",
       "      <td>62.18</td>\n",
       "      <td>3.98</td>\n",
       "      <td>17.44</td>\n",
       "      <td>6.13</td>\n",
       "      <td>14.04</td>\n",
       "    </tr>\n",
       "    <tr>\n",
       "      <th>13</th>\n",
       "      <td>23.49</td>\n",
       "      <td>8.95</td>\n",
       "      <td>9.98</td>\n",
       "      <td>6.13</td>\n",
       "      <td>19.19</td>\n",
       "    </tr>\n",
       "    <tr>\n",
       "      <th>14</th>\n",
       "      <td>32.55</td>\n",
       "      <td>3.48</td>\n",
       "      <td>6.29</td>\n",
       "      <td>5.05</td>\n",
       "      <td>21.92</td>\n",
       "    </tr>\n",
       "    <tr>\n",
       "      <th>15</th>\n",
       "      <td>4.53</td>\n",
       "      <td>4.36</td>\n",
       "      <td>13.30</td>\n",
       "      <td>6.27</td>\n",
       "      <td>19.98</td>\n",
       "    </tr>\n",
       "    <tr>\n",
       "      <th>16</th>\n",
       "      <td>29.01</td>\n",
       "      <td>16.59</td>\n",
       "      <td>10.15</td>\n",
       "      <td>5.21</td>\n",
       "      <td>22.44</td>\n",
       "    </tr>\n",
       "    <tr>\n",
       "      <th>17</th>\n",
       "      <td>21.10</td>\n",
       "      <td>6.65</td>\n",
       "      <td>7.05</td>\n",
       "      <td>5.55</td>\n",
       "      <td>30.32</td>\n",
       "    </tr>\n",
       "    <tr>\n",
       "      <th>18</th>\n",
       "      <td>14.77</td>\n",
       "      <td>5.67</td>\n",
       "      <td>4.82</td>\n",
       "      <td>5.65</td>\n",
       "      <td>17.42</td>\n",
       "    </tr>\n",
       "    <tr>\n",
       "      <th>19</th>\n",
       "      <td>26.21</td>\n",
       "      <td>7.06</td>\n",
       "      <td>5.09</td>\n",
       "      <td>10.61</td>\n",
       "      <td>22.63</td>\n",
       "    </tr>\n",
       "    <tr>\n",
       "      <th>20</th>\n",
       "      <td>23.57</td>\n",
       "      <td>4.47</td>\n",
       "      <td>10.07</td>\n",
       "      <td>4.00</td>\n",
       "      <td>43.22</td>\n",
       "    </tr>\n",
       "    <tr>\n",
       "      <th>21</th>\n",
       "      <td>37.69</td>\n",
       "      <td>4.15</td>\n",
       "      <td>10.53</td>\n",
       "      <td>8.67</td>\n",
       "      <td>22.45</td>\n",
       "    </tr>\n",
       "    <tr>\n",
       "      <th>22</th>\n",
       "      <td>35.04</td>\n",
       "      <td>6.17</td>\n",
       "      <td>10.87</td>\n",
       "      <td>5.49</td>\n",
       "      <td>21.57</td>\n",
       "    </tr>\n",
       "    <tr>\n",
       "      <th>23</th>\n",
       "      <td>49.98</td>\n",
       "      <td>6.78</td>\n",
       "      <td>16.66</td>\n",
       "      <td>3.18</td>\n",
       "      <td>21.27</td>\n",
       "    </tr>\n",
       "    <tr>\n",
       "      <th>24</th>\n",
       "      <td>25.32</td>\n",
       "      <td>3.44</td>\n",
       "      <td>2.88</td>\n",
       "      <td>5.59</td>\n",
       "      <td>11.52</td>\n",
       "    </tr>\n",
       "    <tr>\n",
       "      <th>25</th>\n",
       "      <td>24.55</td>\n",
       "      <td>11.49</td>\n",
       "      <td>3.79</td>\n",
       "      <td>4.69</td>\n",
       "      <td>20.39</td>\n",
       "    </tr>\n",
       "  </tbody>\n",
       "</table>\n",
       "</div>"
      ],
      "text/plain": [
       "    Cadastro  Login  Inscrição da Vaga  Logout  Criação do Curso\n",
       "0      20.40  18.08              23.95    4.76             38.11\n",
       "1     152.88  10.66              11.61    7.50             28.05\n",
       "2      33.75   3.24              22.24    8.66             12.25\n",
       "3      92.81   7.99              12.85   25.06             25.41\n",
       "4      33.15   3.67               9.78    6.03             24.05\n",
       "5      44.09   4.19              12.08    6.24             15.70\n",
       "6      44.09   4.19              12.08    6.24             15.70\n",
       "7      14.95   4.67               5.09   19.44             66.98\n",
       "8       9.95  14.46              11.76    9.55             30.44\n",
       "9       6.32   3.85              11.07    6.44             17.86\n",
       "10     28.13   7.25               7.93   15.06             35.92\n",
       "11     46.30   3.85              13.63    4.05             33.73\n",
       "12     62.18   3.98              17.44    6.13             14.04\n",
       "13     23.49   8.95               9.98    6.13             19.19\n",
       "14     32.55   3.48               6.29    5.05             21.92\n",
       "15      4.53   4.36              13.30    6.27             19.98\n",
       "16     29.01  16.59              10.15    5.21             22.44\n",
       "17     21.10   6.65               7.05    5.55             30.32\n",
       "18     14.77   5.67               4.82    5.65             17.42\n",
       "19     26.21   7.06               5.09   10.61             22.63\n",
       "20     23.57   4.47              10.07    4.00             43.22\n",
       "21     37.69   4.15              10.53    8.67             22.45\n",
       "22     35.04   6.17              10.87    5.49             21.57\n",
       "23     49.98   6.78              16.66    3.18             21.27\n",
       "24     25.32   3.44               2.88    5.59             11.52\n",
       "25     24.55  11.49               3.79    4.69             20.39"
      ]
     },
     "metadata": {},
     "output_type": "display_data"
    }
   ],
   "source": [
    "# Lendo dataframes\n",
    "df_interface_a = pd.read_excel('../bases/Interface_A.xlsx')\n",
    "df_interface_b = pd.read_excel('../bases/Interface_B.xlsx')\n",
    "\n",
    "display(df_interface_b)"
   ]
  },
  {
   "cell_type": "markdown",
   "metadata": {},
   "source": [
    "### Calculando a média de tempo por usuário"
   ]
  },
  {
   "cell_type": "code",
   "execution_count": 39,
   "metadata": {},
   "outputs": [],
   "source": [
    "# # Interface A\n",
    "# medias_usuarios_a = []\n",
    "\n",
    "# for i in range(len(df_interface_a)):\n",
    "#     medias_usuarios_a.append(df_interface_a.loc[i].mean())\n",
    "\n",
    "# # Média final da Interface A\n",
    "# # media_interface_a = sum(medias_usuarios_a) / len(medias_usuarios_a)"
   ]
  },
  {
   "cell_type": "code",
   "execution_count": 40,
   "metadata": {},
   "outputs": [],
   "source": [
    "# Interface B\n",
    "medias_usuarios_b = []\n",
    "\n",
    "for i in range(len(df_interface_b)):\n",
    "    medias_usuarios_b.append(df_interface_b.loc[i].mean())\n",
    "\n",
    "# Média final da Interface B\n",
    "# media_interface_a = sum(medias_usuarios_b) / len(medias_usuarios_b)"
   ]
  },
  {
   "cell_type": "code",
   "execution_count": 41,
   "metadata": {},
   "outputs": [],
   "source": [
    "medias_usuarios_a = [2.5, 3.0, 3.5, 4.0, 4.5]\n",
    "# medias_usuarios_b = [3.5, 4.0, 4.5, 5.0, 5.5]"
   ]
  },
  {
   "cell_type": "markdown",
   "metadata": {},
   "source": [
    "## Calculando teste T"
   ]
  },
  {
   "cell_type": "markdown",
   "metadata": {},
   "source": [
    "### Realista"
   ]
  },
  {
   "cell_type": "code",
   "execution_count": 42,
   "metadata": {},
   "outputs": [
    {
     "name": "stdout",
     "output_type": "stream",
     "text": [
      "               T         p-val        dof\n",
      "T-test -9.689832  1.096643e-10  27.637185\n"
     ]
    }
   ],
   "source": [
    "# Realizando o teste t com Pingouin\n",
    "t_teste = pg.ttest(medias_usuarios_a, medias_usuarios_b, paired=False, alternative='less')\n",
    "\n",
    "# Exibindo os resultados\n",
    "print(t_teste[['T', 'p-val', 'dof']])"
   ]
  },
  {
   "cell_type": "markdown",
   "metadata": {},
   "source": [
    "### Grau de liberdade"
   ]
  },
  {
   "cell_type": "code",
   "execution_count": 43,
   "metadata": {},
   "outputs": [
    {
     "name": "stdout",
     "output_type": "stream",
     "text": [
      "Grau de liberdade:                dof\n",
      "T-test  27.637185\n"
     ]
    }
   ],
   "source": [
    "print(\"Grau de liberdade: \", t_teste[['dof']])"
   ]
  },
  {
   "cell_type": "markdown",
   "metadata": {},
   "source": [
    "### Conservador"
   ]
  },
  {
   "cell_type": "code",
   "execution_count": null,
   "metadata": {},
   "outputs": [],
   "source": []
  }
 ],
 "metadata": {
  "kernelspec": {
   "display_name": "Python 3",
   "language": "python",
   "name": "python3"
  },
  "language_info": {
   "codemirror_mode": {
    "name": "ipython",
    "version": 3
   },
   "file_extension": ".py",
   "mimetype": "text/x-python",
   "name": "python",
   "nbconvert_exporter": "python",
   "pygments_lexer": "ipython3",
   "version": "3.11.9"
  }
 },
 "nbformat": 4,
 "nbformat_minor": 2
}
