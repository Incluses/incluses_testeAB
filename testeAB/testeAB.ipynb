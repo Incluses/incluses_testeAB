{
 "cells": [
  {
   "cell_type": "markdown",
   "metadata": {},
   "source": [
    "## Imports"
   ]
  },
  {
   "cell_type": "code",
   "execution_count": 10,
   "metadata": {},
   "outputs": [],
   "source": [
    "import pandas as pd\n",
    "from scipy import stats"
   ]
  },
  {
   "cell_type": "markdown",
   "metadata": {},
   "source": [
    "## Fluxos\n",
    "\n",
    "1. Cadastro\n",
    "2. Login\n",
    "3. Inscrição da Vaga\n",
    "4. Logout\n",
    "5. Criação do Curso"
   ]
  },
  {
   "cell_type": "markdown",
   "metadata": {},
   "source": [
    "## Teste AB"
   ]
  },
  {
   "cell_type": "markdown",
   "metadata": {},
   "source": [
    "### Hipóteses\n",
    "\n",
    "H0 = Aμ >= Bμ\n",
    "\n",
    "H1 = Aμ < Bμ"
   ]
  },
  {
   "cell_type": "markdown",
   "metadata": {},
   "source": [
    "### Separando dados"
   ]
  },
  {
   "cell_type": "code",
   "execution_count": 11,
   "metadata": {},
   "outputs": [],
   "source": [
    "# Lendo dataframes\n",
    "df_interface_a = pd.read_excel('../bases/Interface_A.xlsx')\n",
    "df_interface_b = pd.read_excel('../bases/Interface_B.xlsx')"
   ]
  },
  {
   "cell_type": "markdown",
   "metadata": {},
   "source": [
    "### Calculando a média de tempo por usuário"
   ]
  },
  {
   "cell_type": "code",
   "execution_count": 12,
   "metadata": {},
   "outputs": [],
   "source": [
    "# Interface A\n",
    "medias_usuarios_a = []\n",
    "\n",
    "for i in range(len(df_interface_a)):\n",
    "    medias_usuarios_a.append(df_interface_a.loc[i].mean())\n",
    "\n",
    "# Média final da Interface A\n",
    "# media_interface_a = sum(medias_usuarios_a) / len(medias_usuarios_a)"
   ]
  },
  {
   "cell_type": "code",
   "execution_count": 13,
   "metadata": {},
   "outputs": [],
   "source": [
    "# Interface B\n",
    "medias_usuarios_b = []\n",
    "\n",
    "for i in range(len(df_interface_b)):\n",
    "    medias_usuarios_b.append(df_interface_b.loc[i].mean())\n",
    "\n",
    "# Média final da Interface B\n",
    "# media_interface_a = sum(medias_usuarios_b) / len(medias_usuarios_b)"
   ]
  },
  {
   "cell_type": "markdown",
   "metadata": {},
   "source": [
    "### Calculando teste T"
   ]
  },
  {
   "cell_type": "code",
   "execution_count": 14,
   "metadata": {},
   "outputs": [
    {
     "name": "stdout",
     "output_type": "stream",
     "text": [
      "Estatística t: nan, Valor p: nan\n"
     ]
    }
   ],
   "source": [
    "# Teste t independente\n",
    "t_stat, p_value = stats.ttest_ind(medias_usuarios_a, medias_usuarios_b, equal_var=False)\n",
    "\n",
    "print(f'Estatística t: {t_stat}, Valor p: {p_value}')"
   ]
  }
 ],
 "metadata": {
  "kernelspec": {
   "display_name": "Python 3",
   "language": "python",
   "name": "python3"
  },
  "language_info": {
   "codemirror_mode": {
    "name": "ipython",
    "version": 3
   },
   "file_extension": ".py",
   "mimetype": "text/x-python",
   "name": "python",
   "nbconvert_exporter": "python",
   "pygments_lexer": "ipython3",
   "version": "3.11.9"
  }
 },
 "nbformat": 4,
 "nbformat_minor": 2
}
